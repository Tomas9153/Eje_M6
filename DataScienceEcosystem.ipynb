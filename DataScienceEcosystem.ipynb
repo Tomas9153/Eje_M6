{
  "nbformat": 4,
  "nbformat_minor": 0,
  "metadata": {
    "colab": {
      "provenance": [],
      "authorship_tag": "ABX9TyNRNFt4pjmU/XAm08cwVowj",
      "include_colab_link": true
    },
    "kernelspec": {
      "name": "python3",
      "display_name": "Python 3"
    },
    "language_info": {
      "name": "python"
    }
  },
  "cells": [
    {
      "cell_type": "markdown",
      "metadata": {
        "id": "view-in-github",
        "colab_type": "text"
      },
      "source": [
        "<a href=\"https://colab.research.google.com/github/Tomas9153/Eje_M6/blob/main/DataScienceEcosystem.ipynb\" target=\"_parent\"><img src=\"https://colab.research.google.com/assets/colab-badge.svg\" alt=\"Open In Colab\"/></a>"
      ]
    },
    {
      "cell_type": "markdown",
      "source": [
        "# Data Science Tools and Ecosystem\n",
        "  "
      ],
      "metadata": {
        "id": "9v5-hAzdRSaq"
      }
    },
    {
      "cell_type": "markdown",
      "source": [
        "En este cuaderno, se resumen las herramientas y ecosistemas de ciencia de datos."
      ],
      "metadata": {
        "id": "cKDTvWoQY1hp"
      }
    },
    {
      "cell_type": "markdown",
      "source": [
        "**Objetivos:**\n",
        "\n",
        "- Listar lenguajes populares para Ciencia de Datos\n",
        "- Enumerar bibliotecas comunes utilizadas en Ciencia de Datos\n",
        "- Explicar operaciones aritméticas básicas\n",
        "- Convertir unidades de tiempo (minutos a horas)\n"
      ],
      "metadata": {
        "id": "J-rbqx9vejZM"
      }
    },
    {
      "cell_type": "markdown",
      "source": [
        "Algunos de los lenguajes populares que utilizan los científicos de datos son:\n",
        "\n",
        "1. Python\n",
        "2. R\n",
        "3. SQL\n"
      ],
      "metadata": {
        "id": "lGyZ48QVZ-LK"
      }
    },
    {
      "cell_type": "markdown",
      "source": [],
      "metadata": {
        "id": "P7eqMlLFZ8kg"
      }
    },
    {
      "cell_type": "code",
      "source": [],
      "metadata": {
        "id": "faidvJeyaAXN"
      },
      "execution_count": null,
      "outputs": []
    },
    {
      "cell_type": "markdown",
      "source": [
        "Algunas de las bibliotecas comúnmente utilizadas por los científicos de datos incluyen:"
      ],
      "metadata": {
        "id": "fADc4s85aV-m"
      }
    },
    {
      "cell_type": "markdown",
      "source": [
        "1. Pandas\n",
        "2. NumPy\n",
        "3. Matplotlib"
      ],
      "metadata": {
        "id": "MxUJedBEbGrN"
      }
    },
    {
      "cell_type": "code",
      "source": [
        "| Herramientas de Ciencia de Datos |\n",
        "|----------------------------------|\n",
        "| Jupyter Notebook                |\n",
        "| RStudio                         |\n",
        "| Apache Zeppelin                 |"
      ],
      "metadata": {
        "colab": {
          "base_uri": "https://localhost:8080/",
          "height": 106
        },
        "id": "SvHADQBybJ5e",
        "outputId": "cce436c6-c1cf-4f87-ce2f-c895e033b6fc"
      },
      "execution_count": 3,
      "outputs": [
        {
          "output_type": "error",
          "ename": "SyntaxError",
          "evalue": "invalid syntax (<ipython-input-3-b21b45e7b9dd>, line 1)",
          "traceback": [
            "\u001b[0;36m  File \u001b[0;32m\"<ipython-input-3-b21b45e7b9dd>\"\u001b[0;36m, line \u001b[0;32m1\u001b[0m\n\u001b[0;31m    | Herramientas de Ciencia de Datos |\u001b[0m\n\u001b[0m    ^\u001b[0m\n\u001b[0;31mSyntaxError\u001b[0m\u001b[0;31m:\u001b[0m invalid syntax\n"
          ]
        }
      ]
    },
    {
      "cell_type": "code",
      "source": [],
      "metadata": {
        "id": "Wm-97ZCobvKS"
      },
      "execution_count": null,
      "outputs": []
    },
    {
      "cell_type": "markdown",
      "source": [
        "| Herramientas de Ciencia de Datos |\n",
        "|----------------------------------|\n",
        "| Jupyter Notebook                |\n",
        "| RStudio                         |\n",
        "| Apache Zeppelin                 |\n"
      ],
      "metadata": {
        "id": "Zw5PolGQbvnI"
      }
    },
    {
      "cell_type": "code",
      "source": [],
      "metadata": {
        "id": "1pPJ2MXVbxZs"
      },
      "execution_count": null,
      "outputs": []
    },
    {
      "cell_type": "markdown",
      "source": [
        "A continuación, se presentan algunos ejemplos de evaluación de expresiones aritméticas en Python"
      ],
      "metadata": {
        "id": "7IyEoW2Rb_qJ"
      }
    },
    {
      "cell_type": "markdown",
      "source": [
        "### Ejemplos de Expresiones Aritméticas\n",
        "\n",
        "1. **Suma**:  \n",
        "   \\( 5 + 3 = 8 \\)\n",
        "\n",
        "2. **Resta**:  \n",
        "   \\( 10 - 4 = 6 \\)\n",
        "\n",
        "3. **Multiplicación**:  \n",
        "   \\( 7 \\times 6 = 42 \\)\n",
        "\n",
        "4. **División**:  \n",
        "   \\( 20 \\div 4 = 5 \\)\n",
        "\n",
        "5. **Potencia**:  \n",
        "   \\( 2^3 = 8 \\)\n",
        "\n"
      ],
      "metadata": {
        "id": "xwlQbcxCc0pZ"
      }
    },
    {
      "cell_type": "code",
      "source": [
        "# Esta es una expresión aritmética simple para multiplicar y luego sumar enteros\n",
        "resultado = (3 * 4) + 5\n",
        "print(resultado)\n"
      ],
      "metadata": {
        "colab": {
          "base_uri": "https://localhost:8080/"
        },
        "id": "LKSg7UAuc1r6",
        "outputId": "1a8de2d7-e18b-4af8-8b36-294a2f298ec8"
      },
      "execution_count": 7,
      "outputs": [
        {
          "output_type": "stream",
          "name": "stdout",
          "text": [
            "17\n"
          ]
        }
      ]
    },
    {
      "cell_type": "code",
      "source": [
        "# Esto convertirá 200 minutos a horas dividiendo por 60\n",
        "minutos = 200\n",
        "horas = minutos / 60\n",
        "print(horas)\n"
      ],
      "metadata": {
        "colab": {
          "base_uri": "https://localhost:8080/"
        },
        "id": "2NsYyyg2d_W7",
        "outputId": "946260cc-07e0-40b8-cd02-5dfa0cc7d8a8"
      },
      "execution_count": 8,
      "outputs": [
        {
          "output_type": "stream",
          "name": "stdout",
          "text": [
            "3.3333333333333335\n"
          ]
        }
      ]
    },
    {
      "cell_type": "code",
      "source": [
        "## Autor\n",
        "\n",
        "print (\"José Díaz\")\n"
      ],
      "metadata": {
        "colab": {
          "base_uri": "https://localhost:8080/"
        },
        "id": "Tt7R72DJfABe",
        "outputId": "9e1d6a3a-d2ad-49f1-9e1a-75b6a8e92ec1"
      },
      "execution_count": 10,
      "outputs": [
        {
          "output_type": "stream",
          "name": "stdout",
          "text": [
            "José Díaz\n"
          ]
        }
      ]
    }
  ]
}